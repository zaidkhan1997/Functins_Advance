{
 "cells": [
  {
   "cell_type": "markdown",
   "id": "835740bf-3325-4261-a5c1-fc6a657d4b72",
   "metadata": {},
   "source": [
    "# Functions_Advance"
   ]
  },
  {
   "cell_type": "markdown",
   "id": "cc513bb1-dd87-4445-8887-2d536b5065d7",
   "metadata": {},
   "source": [
    "## Theory Questions"
   ]
  },
  {
   "cell_type": "code",
   "execution_count": 3,
   "id": "1d8f3b7d-ecde-4aab-96ee-1834cc061ce2",
   "metadata": {},
   "outputs": [],
   "source": [
    "#Question_No.1:What is the difference between a function and a method in Python?\n",
    "\n",
    "\n",
    "#Answer: 1.Functions\n",
    "\n",
    "#Function is block of code that is also called by its name. (independent)\n",
    "#The function can have different parameters or may not have any at all. If any data (parameters) are passed, they are passed explicitly.\n",
    "#It may or may not return any data.\n",
    "#Function does not deal with Class and its instance concept.\n",
    "\n",
    "# 2.Python Method\n",
    "\n",
    "#Method is called by its name, but it is associated to an object (dependent).\n",
    "#A method definition always includes ‘self’ as its first parameter.\n",
    "#A method is implicitly passed to the object on which it is invoked.\n",
    "#It may or may not return any data.\n",
    "#A method can operate on the data (instance variables) that is contained by the corresponding class\n",
    "\n",
    "#Examples:\n",
    "#1.Functions\n",
    "def Subtract (a, b): # change value to see variation\n",
    "    return (a-b)"
   ]
  },
  {
   "cell_type": "code",
   "execution_count": 4,
   "id": "1fa2dfcf-efd2-48dd-a2af-7eaeb6f8db3c",
   "metadata": {},
   "outputs": [
    {
     "data": {
      "text/plain": [
       "0"
      ]
     },
     "execution_count": 4,
     "metadata": {},
     "output_type": "execute_result"
    }
   ],
   "source": [
    "Subtract(10, 10)"
   ]
  },
  {
   "cell_type": "code",
   "execution_count": 5,
   "id": "b7f65c19-eeff-4be3-a4c6-64a1e6d0a5b9",
   "metadata": {},
   "outputs": [
    {
     "name": "stdout",
     "output_type": "stream",
     "text": [
      "I am in method_abc of ABC class. \n"
     ]
    }
   ],
   "source": [
    "#2.Method\n",
    "class ABC :\n",
    "    def method_abc (self):\n",
    "        print(\"I am in method_abc of ABC class. \")\n",
    " \n",
    "class_ref = ABC() # object of ABC class\n",
    "class_ref.method_abc()"
   ]
  },
  {
   "cell_type": "code",
   "execution_count": 6,
   "id": "c2d448f6-5f65-46ba-8c56-1f3a16ce6ed8",
   "metadata": {},
   "outputs": [
    {
     "name": "stdout",
     "output_type": "stream",
     "text": [
      "3\n"
     ]
    }
   ],
   "source": [
    "#Question_No.2:Explain the concept of function arguments and parameters in Python.\n",
    "\n",
    "\n",
    "#Answer: 1.Parameters\n",
    "#A parameter is the variable defined within the parentheses when we declare a function. \n",
    "\n",
    "# 2.Arguments\n",
    "#An argument is a value that is passed to a function when it is called. It might be a variable, value \n",
    "#or object passed to a function or method as input.\n",
    "\n",
    "# 3.Types of arguments in python\n",
    "#Python functions can contain two types of arguments:\n",
    "\n",
    "#A.Positional Arguments\n",
    "#Positional Arguments are needed to be included in proper order i.e the first argument is always listed\n",
    "#first when the function is called, second argument needs to be called second and so on.\n",
    "\n",
    "#B.Keyword Arguments\n",
    "#Keyword Arguments is an argument passed to a function or method which is preceded by a keyword and equal\n",
    "#to sign (=). The order of keyword argument with respect to another keyword argument does not matter \n",
    "#because the values are being explicitly assigned.\n",
    "\n",
    "\n",
    "#Example:\n",
    "# Here a,b are the parameters\n",
    "def sum(a,b):\n",
    "  print(a+b)\n",
    "  \n",
    "sum(1,2)"
   ]
  },
  {
   "attachments": {
    "35dc4ec6-eac7-460c-aecb-ad170eb99066.png": {
     "image/png": "[encoded data removed]"
    }
   },
   "cell_type": "markdown",
   "id": "03cded28-e0c4-4b2d-9502-9224b3b170df",
   "metadata": {},
   "source": [
    "#Question_No.3:What are the different ways to define and call a function in Python?\n",
    "\n",
    "\n",
    "#Answer: Python Functions is a block of statements that return the specific task. The idea is to put \n",
    "#some commonly or repeatedly done tasks together and make a function so that instead of writing the same\n",
    "#code again and again for different inputs, we can do the function calls to reuse code contained in it \n",
    "#over and over again.\n",
    "\n",
    "# Python Function Declaration\n",
    "#The syntax to declare a function is:\n",
    "![51.png](attachment:35dc4ec6-eac7-460c-aecb-ad170eb99066.png)"
   ]
  },
  {
   "cell_type": "code",
   "execution_count": 9,
   "id": "d7045bd2-2632-417d-be09-4dcd1848d0c7",
   "metadata": {},
   "outputs": [
    {
     "name": "stdout",
     "output_type": "stream",
     "text": [
      "Welcome to PwSkills\n"
     ]
    }
   ],
   "source": [
    "# Calling a Function in Python\n",
    "#After creating a function in Python we can call it by using the name of the functions Python followed\n",
    "#by parenthesis containing parameters of that particular function. Below is the example for calling def\n",
    "#function Python.\n",
    "\n",
    "\n",
    "#Example:\n",
    "# A simple Python function\n",
    "def fun():\n",
    "    print(\"Welcome to PwSkills\")\n",
    "\n",
    "fun()"
   ]
  },
  {
   "cell_type": "code",
   "execution_count": 11,
   "id": "d1992bca-d78c-49a3-8446-a7ca4944e114",
   "metadata": {},
   "outputs": [
    {
     "data": {
      "text/plain": [
       "15"
      ]
     },
     "execution_count": 11,
     "metadata": {},
     "output_type": "execute_result"
    }
   ],
   "source": [
    "#Question_No.4:What is the purpose of the `return` statement in a Python function?\n",
    "\n",
    "\n",
    "#Answer: The Python return statement marks the end of a function and specifies the value or values to\n",
    "#pass back from the function. Return statements can return data of any type, including integers, floats, \n",
    "#strings, lists, dictionaries, and even other functions.\n",
    "\n",
    "#Example:\n",
    "def add(a, b):\n",
    "    return (a+b)\n",
    "\n",
    "add(5, 10)"
   ]
  },
  {
   "cell_type": "code",
   "execution_count": 1,
   "id": "d65240dc-c1a1-4580-8347-683652638093",
   "metadata": {},
   "outputs": [
    {
     "name": "stdout",
     "output_type": "stream",
     "text": [
      "<str_ascii_iterator object at 0x7c50193eb8b0>\n",
      "J\n",
      "L\n",
      "C\n"
     ]
    }
   ],
   "source": [
    "#Question_No.5:What are iterators in Python and how do they differ from iterables?\n",
    "\n",
    "\n",
    "#Answer: Iterable is an object, that one can iterate over. It generates an Iterator when passed to \n",
    "#iter() method. An iterator is an object, which is used to iterate over an iterable object using the\n",
    "#__next__() method. Iterators have the __next__() method, which returns the next item of the object.\n",
    "\n",
    "#Note: Every iterator is also an iterable, but not every iterable is an iterator in Python.\n",
    "\n",
    "#For example, a list is iterable but a list is not an iterator. An iterator can be created from an iterable by using the function iter(). To make this possible, the class of an object needs either a method __iter__, which returns an iterator, or a __getitem__ method with sequential indexes starting with 0. \n",
    "\n",
    "#Example:\n",
    "#We know that str is iterable but it is not an iterator. where if we run this in for loop to print string\n",
    "#then it is possible because when for loop executes it converts into an iterator to execute the code.\n",
    "\n",
    "# code\n",
    "s=\"JLC\"  #Jupyter Lab Corporation\n",
    "s=iter(s)\n",
    "print(s)\n",
    "print(next(s))\n",
    "print(next(s))\n",
    "print(next(s))"
   ]
  },
  {
   "cell_type": "code",
   "execution_count": 6,
   "id": "69f77a29-2b05-4d42-a42f-359187e54ed9",
   "metadata": {},
   "outputs": [
    {
     "name": "stdout",
     "output_type": "stream",
     "text": [
      "1\n",
      "2\n",
      "3\n"
     ]
    }
   ],
   "source": [
    "#Question_No.6:Explain the concept of generators in Python and how they are defined.\n",
    "\n",
    "\n",
    "#Answer: Generator Function in Python\n",
    "#A generator function in Python is defined like a normal function, but whenever it needs to generate a\n",
    "#value, it does so with the yield keyword rather than return. If the body of a def contains yield, the \n",
    "#function automatically becomes a Python generator function. \n",
    "\n",
    "# Generator Object\n",
    "#Python Generator functions return a generator object that is iterable, i.e., can be used as an \n",
    "#Iterator. Generator objects are used either by calling the next method of the generator object or \n",
    "#using the generator object in a “for in” loop.\n",
    "\n",
    "#Example:\n",
    "# A generator function that yields 1 for first time,\n",
    "# 2 second time and 3 third time\n",
    "def simpleGeneratorFunc():\n",
    "    yield 1            \n",
    "    yield 2            \n",
    "    yield 3            \n",
    " \n",
    "# Driver code to check above generator function\n",
    "for value in simpleGeneratorFunc(): \n",
    "    print(value)\n"
   ]
  },
  {
   "cell_type": "code",
   "execution_count": 8,
   "id": "ea948eb4-62ec-49eb-95d7-2867237e3c1d",
   "metadata": {},
   "outputs": [
    {
     "name": "stdout",
     "output_type": "stream",
     "text": [
      "499999500000\n"
     ]
    }
   ],
   "source": [
    "#Question_No.7:What are the advantages of using generators over regular functions?\n",
    "\n",
    "\n",
    "#Answer: Advantages of Generators Over Regular Loops\n",
    "#There are several advantages to using generators over regular loops. Here are a few of the most \n",
    "#important ones:\n",
    "\n",
    "# Memory Efficiency: One of the biggest advantages of generators is that they are memory efficient. \n",
    "#Since a generator yields its values one by one, it does not need to store all of the values in memory at\n",
    "#once. This can be especially useful when working with large data sets, as it reduces the risk of running\n",
    "#out of memory.\n",
    "\n",
    "# Readability: Generators can make your code easier to read and understand. By breaking up the iteration\n",
    "#process into smaller chunks, you can write code that is more concise and easier to follow.\n",
    "# Speed: Generators can also be faster than regular loops, especially when working with large data sets.\n",
    "#This is because they avoid the overhead of creating a list or other data structure to store the results.\n",
    "\n",
    "#Here’s an example that demonstrates the memory efficiency and readability benefits of generators:\n",
    "def first_million_numbers():\n",
    "    for i in range(1000000):\n",
    "        yield i\n",
    "\n",
    "gen = first_million_numbers()\n",
    "print(sum(gen))"
   ]
  },
  {
   "cell_type": "code",
   "execution_count": 9,
   "id": "cfceb62c-fcee-4ce4-bbbb-8b3166a51df1",
   "metadata": {},
   "outputs": [
    {
     "name": "stdout",
     "output_type": "stream",
     "text": [
      "Positive\n",
      "Negative\n",
      "Zero\n"
     ]
    }
   ],
   "source": [
    "#Question_No.8:What is a lambda function in Python and when is it typically used?\n",
    "\n",
    "\n",
    "#Answer: Python Lambda Functions are anonymous functions means that the function is without a name.\n",
    "#As we already know the def keyword is used to define a normal function in Python. Similarly, the lambda\n",
    "#keyword is used to define an anonymous function in Python. \n",
    "\n",
    "# Python Lambda Function Syntax\n",
    "#Syntax: lambda arguments : expression\n",
    "\n",
    "#lambda: The keyword to define the function.\n",
    "#arguments: A comma-separated list of input parameters (like in a regular function).\n",
    "#expression: A single expression that is evaluated and returned.\n",
    "\n",
    "#Let’s see some of the practical uses of the Python lambda function.\n",
    "# Example: Check if a number is positive, negative, or zero\n",
    "n = lambda x: \"Positive\" if x > 0 else \"Negative\" if x < 0 else \"Zero\"\n",
    "\n",
    "print(n(5))   \n",
    "print(n(-3))  \n",
    "print(n(0))"
   ]
  },
  {
   "cell_type": "code",
   "execution_count": 11,
   "id": "dd0e02fa-69e7-4b17-831a-6fbafc1cdd18",
   "metadata": {},
   "outputs": [
    {
     "name": "stdout",
     "output_type": "stream",
     "text": [
      "<map object at 0x7c50189fc160>\n",
      "[9, 25, 49, 121, 169]\n"
     ]
    }
   ],
   "source": [
    "#Question_No.9:Explain the purpose and usage of the `map()` function in Python.\n",
    "\n",
    "\n",
    "#Answer: Map in Python is a function that works as an iterator to return a result after applying a \n",
    "#function to every item of an iterable (tuple, lists, etc.). It is used when you want to apply a single \n",
    "#transformation function to all the iterable elements. The iterable and function are passed as arguments\n",
    "#to the map in Python.\n",
    "\n",
    "\n",
    "# The syntax of the Python map() function is:\n",
    "#map(function, iterables)\n",
    "\n",
    "#In the above syntax:\n",
    "#function: It is the transformation function through which all the items of the iterable will be passed.\n",
    "\n",
    "#iterables: It is the iterable (sequence, collection like list or tuple) that you want to map.\n",
    "\n",
    "#Let’s look at an example to understand the syntax of the map in Python better. The code below creates\n",
    "#a list of numbers and then uses the Python map() function to multiply each item of the list with itself.\n",
    "# Defining a function\n",
    "\n",
    "def mul(i):\n",
    "\n",
    "    return i * i\n",
    "\n",
    "# Using the map function\n",
    "\n",
    "x = map(mul, (3, 5, 7, 11, 13))\n",
    "\n",
    "print (x)\n",
    "\n",
    "print(list(x))"
   ]
  },
  {
   "cell_type": "code",
   "execution_count": 12,
   "id": "72693178-0aa7-4cb5-ab07-0d89acf708a6",
   "metadata": {},
   "outputs": [
    {
     "name": "stdout",
     "output_type": "stream",
     "text": [
      "[10, 12, 14, 16]\n"
     ]
    }
   ],
   "source": [
    "#Question_No.10:What is the difference between `map()`, `reduce()`, and `filter()` functions in Python?\n",
    "\n",
    "\n",
    "#Answer: Map Function in Python\n",
    "#The map () function returns a map object(which is an iterator) of the results after applying the given \n",
    "#function to each item of a given iterable (list, tuple, etc.).\n",
    "\n",
    "#Syntax: map(fun, iter)\n",
    "\n",
    "#Parameters:\n",
    "\n",
    "# fun: It is a function to which map passes each element of given iterable.\n",
    "# iter:  iterable object to be mapped.\n",
    "\n",
    "\n",
    "#Reduce Function in Python\n",
    "#The reduce function is used to apply a particular function passed in its argument to all of the list\n",
    "#elements mentioned in the sequence passed along.This function is defined in “functools” module.\n",
    "\n",
    "#Syntax: reduce(func, iterable[, initial])\n",
    "\n",
    "#Parameters:\n",
    "\n",
    "#fun: It is a function to execuate on each element of the iterable objec\n",
    "#iter: It is iterable to be reduced\n",
    "\n",
    "\n",
    "# Filter Function in Python\n",
    "#The filter() method filters the given sequence with the help of a function that tests each element in \n",
    "#the sequence to be true or not. \n",
    "\n",
    "#Syntax: filter(function, sequence)\n",
    "\n",
    "#Parameters:\n",
    "\n",
    "#function: function that tests if each element of a sequence is true or not.\n",
    "#sequence: sequence which needs to be filtered, it can be sets, lists, tuples, or containers of any \n",
    "#iterators.\n",
    "# Function to return double of n\n",
    "def double(n):\n",
    "    return n * 2\n",
    "\n",
    "# Using map to double all numbers\n",
    "numbers = [5, 6, 7, 8]\n",
    "result = map(double, numbers)\n",
    "print(list(result))"
   ]
  },
  {
   "cell_type": "code",
   "execution_count": null,
   "id": "653fb623-0b4f-460d-aa19-300000075bc7",
   "metadata": {},
   "outputs": [],
   "source": []
  }
 ],
 "metadata": {
  "kernelspec": {
   "display_name": "Python 3 (ipykernel)",
   "language": "python",
   "name": "python3"
  },
  "language_info": {
   "codemirror_mode": {
    "name": "ipython",
    "version": 3
   },
   "file_extension": ".py",
   "mimetype": "text/x-python",
   "name": "python",
   "nbconvert_exporter": "python",
   "pygments_lexer": "ipython3",
   "version": "3.12.5"
  }
 },
 "nbformat": 4,
 "nbformat_minor": 5
}
