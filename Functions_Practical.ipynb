{
 "cells": [
  {
   "cell_type": "markdown",
   "id": "da6247cc-9c0a-4f53-9694-981f8cad4881",
   "metadata": {},
   "source": [
    "# Functions_Advance"
   ]
  },
  {
   "cell_type": "markdown",
   "id": "86e2b67b-9fd2-4734-8993-58a6701950ad",
   "metadata": {},
   "source": [
    "## Practical Questions"
   ]
  },
  {
   "cell_type": "code",
   "execution_count": 9,
   "id": "bad7fa27-d910-45a8-ba61-f69fdf0e58ec",
   "metadata": {},
   "outputs": [
    {
     "name": "stdout",
     "output_type": "stream",
     "text": [
      "Sum of even numbers: 12\n"
     ]
    }
   ],
   "source": [
    "#Question_No.1:  Write a Python function that takes a list of numbers as input and returns the sum of \n",
    "#all even numbers in the list.\n",
    " \n",
    "\n",
    "#Answer: \n",
    "def sum_of_evens(numbers):\n",
    "    \"\"\"\n",
    "    Returns the sum of all even numbers in the given list.\n",
    "    \n",
    "    Parameters:\n",
    "    numbers (list): A list of integers.\n",
    "\n",
    "    Returns:\n",
    "    int: The sum of all even numbers.\n",
    "    \"\"\"\n",
    "    return sum(num for num in numbers if num % 2 == 0)\n",
    "\n",
    "# Example usage:\n",
    "numbers_list = [1, 2, 3, 4, 5, 6]\n",
    "result = sum_of_evens(numbers_list)\n",
    "print(f\"Sum of even numbers: {result}\")\n"
   ]
  },
  {
   "cell_type": "code",
   "execution_count": 10,
   "id": "4a589e7f-fbdc-4641-ae26-0f33cee3a294",
   "metadata": {},
   "outputs": [
    {
     "name": "stdout",
     "output_type": "stream",
     "text": [
      "Original string: hello\n",
      "Reversed string: olleh\n"
     ]
    }
   ],
   "source": [
    "#Question_No.2:Create a Python function that accepts a string and returns the reverse of that string. \n",
    "\n",
    "\n",
    "#Answer: \n",
    "def reverse_string(input_string):\n",
    "    \"\"\"\n",
    "    Returns the reverse of the given string.\n",
    "\n",
    "    Parameters:\n",
    "    input_string (str): The string to be reversed.\n",
    "\n",
    "    Returns:\n",
    "    str: The reversed string.\n",
    "    \"\"\"\n",
    "    return input_string[::-1]\n",
    "\n",
    "# Example usage:\n",
    "original_string = \"hello\"\n",
    "reversed_string = reverse_string(original_string)\n",
    "print(f\"Original string: {original_string}\")\n",
    "print(f\"Reversed string: {reversed_string}\")"
   ]
  },
  {
   "cell_type": "code",
   "execution_count": 11,
   "id": "d55f808b-3f88-4f8b-96ae-f19e50acf507",
   "metadata": {},
   "outputs": [
    {
     "name": "stdout",
     "output_type": "stream",
     "text": [
      "Original list: [1, 2, 3, 4, 5]\n",
      "Squared list: [1, 4, 9, 16, 25]\n"
     ]
    }
   ],
   "source": [
    "#Question_No.3: Implement a Python function that takes a list of integers and returns a new list \n",
    "#containing the squares of each number.\n",
    "\n",
    "\n",
    "#Answer: \n",
    "def square_numbers(numbers):\n",
    "    \"\"\"\n",
    "    Returns a new list containing the squares of each number in the input list.\n",
    "\n",
    "    Parameters:\n",
    "    numbers (list): A list of integers.\n",
    "\n",
    "    Returns:\n",
    "    list: A list with the squares of each number.\n",
    "    \"\"\"\n",
    "    return [num ** 2 for num in numbers]\n",
    "\n",
    "# Example usage:\n",
    "numbers_list = [1, 2, 3, 4, 5]\n",
    "squared_list = square_numbers(numbers_list)\n",
    "print(f\"Original list: {numbers_list}\")\n",
    "print(f\"Squared list: {squared_list}\")"
   ]
  },
  {
   "cell_type": "code",
   "execution_count": 12,
   "id": "cbf672ca-3baf-4229-a8ae-c723db0690ef",
   "metadata": {},
   "outputs": [
    {
     "name": "stdout",
     "output_type": "stream",
     "text": [
      "Prime numbers between 1 and 200:\n",
      "2 3 5 7 11 13 17 19 23 29 31 37 41 43 47 53 59 61 67 71 73 79 83 89 97 101 103 107 109 113 127 131 137 139 149 151 157 163 167 173 179 181 191 193 197 199 "
     ]
    }
   ],
   "source": [
    "#Question_No.4:Write a Python function that checks if a given number is prime or not from 1 to 200.\n",
    "\n",
    "\n",
    "#Answer:\n",
    "def is_prime(number):\n",
    "    \"\"\"\n",
    "    Checks if a given number is prime.\n",
    "\n",
    "    Parameters:\n",
    "    number (int): The number to be checked.\n",
    "\n",
    "    Returns:\n",
    "    bool: True if the number is prime, False otherwise.\n",
    "    \"\"\"\n",
    "    if number < 2:\n",
    "        return False  # Numbers less than 2 are not prime\n",
    "    for i in range(2, int(number ** 0.5) + 1):\n",
    "        if number % i == 0:\n",
    "            return False  # Divisible by a number other than 1 and itself\n",
    "    return True\n",
    "\n",
    "# Example usage: Check numbers from 1 to 200\n",
    "print(\"Prime numbers between 1 and 200:\")\n",
    "for num in range(1, 201):\n",
    "    if is_prime(num):\n",
    "        print(num, end=\" \")"
   ]
  },
  {
   "cell_type": "code",
   "execution_count": 13,
   "id": "805d4854-3607-4a75-8c84-c60eba39ea2a",
   "metadata": {},
   "outputs": [
    {
     "name": "stdout",
     "output_type": "stream",
     "text": [
      "Fibonacci sequence with 10 terms:\n",
      "0 1 1 2 3 5 8 13 21 34 "
     ]
    }
   ],
   "source": [
    "#Question_No.5:Create an iterator class in Python that generates the Fibonacci sequence up to a \n",
    "#specified number of terms.\n",
    "\n",
    "\n",
    "#Answer:\n",
    "class FibonacciIterator:\n",
    "    \"\"\"\n",
    "    An iterator class that generates the Fibonacci sequence up to a specified number of terms.\n",
    "    \"\"\"\n",
    "    def __init__(self, n_terms):\n",
    "        \"\"\"\n",
    "        Initialize the Fibonacci iterator.\n",
    "\n",
    "        Parameters:\n",
    "        n_terms (int): The number of terms to generate in the Fibonacci sequence.\n",
    "        \"\"\"\n",
    "        self.n_terms = n_terms  # Total terms to generate\n",
    "        self.a, self.b = 0, 1   # Initial two terms of the Fibonacci sequence\n",
    "        self.count = 0          # Counter to track generated terms\n",
    "\n",
    "    def __iter__(self):\n",
    "        \"\"\"\n",
    "        Returns the iterator object itself.\n",
    "        \"\"\"\n",
    "        return self\n",
    "\n",
    "    def __next__(self):\n",
    "        \"\"\"\n",
    "        Generates the next term in the Fibonacci sequence.\n",
    "\n",
    "        Returns:\n",
    "        int: The next Fibonacci number.\n",
    "\n",
    "        Raises:\n",
    "        StopIteration: When the specified number of terms is reached.\n",
    "        \"\"\"\n",
    "        if self.count >= self.n_terms:\n",
    "            raise StopIteration  # Stop the iteration when n_terms is reached\n",
    "        \n",
    "        # Generate the next Fibonacci number\n",
    "        result = self.a\n",
    "        self.a, self.b = self.b, self.a + self.b  # Update to next values\n",
    "        self.count += 1\n",
    "        return result\n",
    "\n",
    "\n",
    "# Example usage\n",
    "n = 10  # Number of terms in the Fibonacci sequence\n",
    "fib_iterator = FibonacciIterator(n)\n",
    "\n",
    "print(f\"Fibonacci sequence with {n} terms:\")\n",
    "for fib in fib_iterator:\n",
    "    print(fib, end=\" \")"
   ]
  },
  {
   "cell_type": "code",
   "execution_count": 14,
   "id": "621c2b48-d5b6-4a00-ab95-6cd00637fe05",
   "metadata": {},
   "outputs": [
    {
     "name": "stdout",
     "output_type": "stream",
     "text": [
      "Powers of 2 up to 2^5:\n",
      "1 2 4 8 16 32 "
     ]
    }
   ],
   "source": [
    "#Question_No.6:Write a generator function in Python that yields the powers of 2 up to a given exponent.\n",
    "\n",
    "\n",
    "#Answer: \n",
    "def powers_of_two(max_exponent):\n",
    "    \"\"\"\n",
    "    A generator function that yields powers of 2 up to the given exponent.\n",
    "\n",
    "    Parameters:\n",
    "    max_exponent (int): The maximum exponent for powers of 2.\n",
    "    \"\"\"\n",
    "    for exponent in range(max_exponent + 1):\n",
    "        yield 2 ** exponent\n",
    "\n",
    "# Example usage\n",
    "max_exp = 5  # Maximum exponent\n",
    "print(f\"Powers of 2 up to 2^{max_exp}:\")\n",
    "for power in powers_of_two(max_exp):\n",
    "    print(power, end=\" \")"
   ]
  },
  {
   "cell_type": "code",
   "execution_count": 16,
   "id": "ce958e5e-5990-481f-a6e3-1619415aea91",
   "metadata": {},
   "outputs": [
    {
     "name": "stdout",
     "output_type": "stream",
     "text": [
      "Contents of the file:\n",
      "Hello, World!\n",
      "This is a test file.\n",
      "Generators are memory-efficient!\n"
     ]
    }
   ],
   "source": [
    "#Question_No.7:Implement a generator function that reads a file line by line and yields each line as \n",
    "#a string.\n",
    "\n",
    "#Answer:\n",
    "def read_file_line_by_line(file_path):\n",
    "    \"\"\"\n",
    "    A generator function that reads a file line by line.\n",
    "\n",
    "    Parameters:\n",
    "    file_path (str): The path to the file to be read.\n",
    "\n",
    "    Yields:\n",
    "    str: Each line in the file as a string.\n",
    "    \"\"\"\n",
    "    try:\n",
    "        with open(file_path, 'r') as file:  # Open the file in read mode\n",
    "            for line in file:\n",
    "                yield line.rstrip('\\n')  # Yield each line without the newline character\n",
    "    except FileNotFoundError:\n",
    "        print(f\"Error: File '{file_path}' not found.\")\n",
    "    except Exception as e:\n",
    "        print(f\"An error occurred: {e}\")\n",
    "\n",
    "\n",
    "# Example usage:\n",
    "file_path = \"example.txt\"  # Replace with your file path\n",
    "\n",
    "# Reading the file using the generator\n",
    "print(\"Contents of the file:\")\n",
    "for line in read_file_line_by_line(file_path):\n",
    "    print(line)"
   ]
  },
  {
   "cell_type": "code",
   "execution_count": 17,
   "id": "b351872e-abfe-4374-a3e3-20e22f9f1d33",
   "metadata": {},
   "outputs": [
    {
     "name": "stdout",
     "output_type": "stream",
     "text": [
      "Sorted list based on the second element of each tuple:\n",
      "[(2, 1), (3, 2), (6, 4), (1, 5), (4, 8)]\n"
     ]
    }
   ],
   "source": [
    "#Question_No.8:Use a lambda function in Python to sort a list of tuples based on the second element of \n",
    "#each tuple.\n",
    "\n",
    "#Answer:\n",
    "# List of tuples\n",
    "tuples_list = [(1, 5), (3, 2), (4, 8), (2, 1), (6, 4)]\n",
    "\n",
    "# Sorting the list based on the second element of each tuple\n",
    "sorted_list = sorted(tuples_list, key=lambda x: x[1])\n",
    "\n",
    "# Output the sorted list\n",
    "print(\"Sorted list based on the second element of each tuple:\")\n",
    "print(sorted_list)"
   ]
  },
  {
   "cell_type": "code",
   "execution_count": 18,
   "id": "47590d00-5e16-4da9-b696-10d3240b86c3",
   "metadata": {},
   "outputs": [
    {
     "name": "stdout",
     "output_type": "stream",
     "text": [
      "Temperatures in Celsius: [0, 20, 30, 37, 100]\n",
      "Temperatures in Fahrenheit: [32.0, 68.0, 86.0, 98.6, 212.0]\n"
     ]
    }
   ],
   "source": [
    "#Question_No.9:Write a Python program that uses `map()` to convert a list of temperatures from Celsius\n",
    "#to Fahrenheit.\n",
    "\n",
    "#Answer:\n",
    "# Function to convert Celsius to Fahrenheit\n",
    "def celsius_to_fahrenheit(celsius):\n",
    "    return (celsius * 9/5) + 32\n",
    "\n",
    "# List of temperatures in Celsius\n",
    "celsius_temperatures = [0, 20, 30, 37, 100]\n",
    "\n",
    "# Using map() to apply the conversion function to each temperature\n",
    "fahrenheit_temperatures = list(map(celsius_to_fahrenheit, celsius_temperatures))\n",
    "\n",
    "# Output the results\n",
    "print(\"Temperatures in Celsius:\", celsius_temperatures)\n",
    "print(\"Temperatures in Fahrenheit:\", fahrenheit_temperatures)"
   ]
  },
  {
   "cell_type": "code",
   "execution_count": 19,
   "id": "01c65a1b-ee70-45ad-8fe4-fedcbc64c47a",
   "metadata": {},
   "outputs": [
    {
     "name": "stdout",
     "output_type": "stream",
     "text": [
      "Original string: Hello, World!\n",
      "String without vowels: Hll, Wrld!\n"
     ]
    }
   ],
   "source": [
    "#Question_No.10:Create a Python program that uses `filter()` to remove all the vowels from a \n",
    "#given string.\n",
    "\n",
    "#Answer:\n",
    "# Function to check if a character is a vowel\n",
    "def is_not_vowel(char):\n",
    "    vowels = \"aeiouAEIOU\"\n",
    "    return char not in vowels\n",
    "\n",
    "# Given string\n",
    "input_string = \"Hello, World!\"\n",
    "\n",
    "# Using filter() to remove vowels\n",
    "filtered_string = ''.join(filter(is_not_vowel, input_string))\n",
    "\n",
    "# Output the result\n",
    "print(\"Original string:\", input_string)\n",
    "print(\"String without vowels:\", filtered_string)\n",
    "# Function to check if a character is a vowel\n",
    "def is_not_vowel(char):\n",
    "    vowels = \"aeiouAEIOU\"\n",
    "    return char not in vowels"
   ]
  },
  {
   "cell_type": "code",
   "execution_count": 20,
   "id": "6a5fbc59-48c4-47be-8a41-7c6e810c804e",
   "metadata": {},
   "outputs": [
    {
     "name": "stdout",
     "output_type": "stream",
     "text": [
      "Order totals with possible adjustment:\n",
      "[(1, 85), (2, 100), (3, 100), (4, 120), (5, 90)]\n"
     ]
    }
   ],
   "source": [
    "#Question_No.11:Write a Python program, which returns a list with 2-tuples. Each tuple consists of the \n",
    "#order number and the product of the price per item and the quantity. The product should be increased by\n",
    "#10,- € if the value of the order is smaller than 100,00 €.\n",
    "#Write a Python program using lambda and map.\n",
    "\n",
    "#Answer:\n",
    "# List of orders: Each order is represented by a tuple (order_number, price_per_item, quantity)\n",
    "orders = [\n",
    "    (1, 15, 5),   # Order 1: 15€ per item, 5 items\n",
    "    (2, 50, 2),   # Order 2: 50€ per item, 2 items\n",
    "    (3, 30, 3),   # Order 3: 30€ per item, 3 items\n",
    "    (4, 10, 12),  # Order 4: 10€ per item, 12 items\n",
    "    (5, 80, 1)    # Order 5: 80€ per item, 1 item\n",
    "]\n",
    "\n",
    "# Using map() and lambda to calculate the total price per order and adjust it if needed\n",
    "order_totals = list(map(lambda order: (\n",
    "    order[0],  # order number\n",
    "    (order[1] * order[2]) + 10 if order[1] * order[2] < 100 else order[1] * order[2]\n",
    "), orders))\n",
    "\n",
    "# Output the result\n",
    "print(\"Order totals with possible adjustment:\")\n",
    "print(order_totals)"
   ]
  },
  {
   "cell_type": "code",
   "execution_count": null,
   "id": "0a0151e6-60a8-451a-bd62-95c030c71329",
   "metadata": {},
   "outputs": [],
   "source": []
  }
 ],
 "metadata": {
  "kernelspec": {
   "display_name": "Python 3 (ipykernel)",
   "language": "python",
   "name": "python3"
  },
  "language_info": {
   "codemirror_mode": {
    "name": "ipython",
    "version": 3
   },
   "file_extension": ".py",
   "mimetype": "text/x-python",
   "name": "python",
   "nbconvert_exporter": "python",
   "pygments_lexer": "ipython3",
   "version": "3.12.5"
  }
 },
 "nbformat": 4,
 "nbformat_minor": 5
}
